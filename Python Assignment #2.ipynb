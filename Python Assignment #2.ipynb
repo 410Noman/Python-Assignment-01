{
 "cells": [
  {
   "cell_type": "markdown",
   "metadata": {},
   "source": [
    "# 1. Write a program which takes 5 inputs from user for different subject’s marks, total it and generate mark sheet using grades ?"
   ]
  },
  {
   "cell_type": "code",
   "execution_count": 14,
   "metadata": {},
   "outputs": [
    {
     "name": "stdout",
     "output_type": "stream",
     "text": [
      "Enter your maths marks80\n",
      "Enter your computer marks75\n",
      "Enter your english marks60\n",
      "Enter your urdu marks85\n",
      "Enter your science marks58\n",
      "your total marks is:  358\n",
      "your percentage is  71.6 %\n",
      "A Grade\n"
     ]
    }
   ],
   "source": [
    "#input marks should be out of 100 \n",
    "\n",
    "maths = int(input(\"Enter your maths marks\"))\n",
    "computer = int(input(\"Enter your computer marks\"))\n",
    "english = int(input(\"Enter your english marks\"))\n",
    "urdu = int(input(\"Enter your urdu marks\"))\n",
    "science = int(input(\"Enter your science marks\"))\n",
    "\n",
    "total_marks = (maths + computer + english + urdu + science)\n",
    "print('your total marks is: ', total_marks)\n",
    "\n",
    "per = (total_marks/500) * 100\n",
    "print('your percentage is ',per,'%')\n",
    "\n",
    "if per >= 80 and per <= 100:\n",
    "    print(\"A+ Grade\")\n",
    "elif per >= 70 and per <= 80:\n",
    "    print(\"A Grade\")\n",
    "elif per >= 60 and per <= 70:\n",
    "    print(\"B Grade\")\n",
    "elif per >= 50 and per <= 60:\n",
    "    print(\"C Grade\")\n",
    "elif per >= 40 and per <= 50:\n",
    "    print(\"D Grade\")\n",
    "elif per >= 33 and per <= 40:\n",
    "    print(\"E Grade\")\n",
    "elif per >= 0 and per <= 33:\n",
    "    print(\"Fail\")\n",
    "else :\n",
    "    print(\"You have given inappropraite % \")\n"
   ]
  },
  {
   "cell_type": "markdown",
   "metadata": {},
   "source": [
    "# 2. Write a program which take input from user and identify that the given number is even or odd?"
   ]
  },
  {
   "cell_type": "code",
   "execution_count": 1,
   "metadata": {},
   "outputs": [
    {
     "name": "stdout",
     "output_type": "stream",
     "text": [
      "Enter any number: 9\n",
      "number is odd\n"
     ]
    }
   ],
   "source": [
    "num=int(input(\"Enter any number: \"))\n",
    "if(num%2==0):\n",
    "    print(\"number is even\")\n",
    "else:\n",
    "    print(\"number is odd\")"
   ]
  },
  {
   "cell_type": "markdown",
   "metadata": {},
   "source": [
    "# 3. Write a program which print the length of the list?"
   ]
  },
  {
   "cell_type": "code",
   "execution_count": 17,
   "metadata": {},
   "outputs": [
    {
     "data": {
      "text/plain": [
       "10"
      ]
     },
     "execution_count": 17,
     "metadata": {},
     "output_type": "execute_result"
    }
   ],
   "source": [
    "_list = [\"Noman\", \"Umair\", \"Sarmad\", \"Ikram\", \"Noor\", \"Khurram\", \"Zeeshan\", \"Samad\", \"Bilal\", \"Usama\"]\n",
    "len(_list)"
   ]
  },
  {
   "cell_type": "markdown",
   "metadata": {},
   "source": [
    "# 4. Write a Python program to sum all the numeric items in a list?"
   ]
  },
  {
   "cell_type": "code",
   "execution_count": 1,
   "metadata": {},
   "outputs": [
    {
     "name": "stdout",
     "output_type": "stream",
     "text": [
      "232\n"
     ]
    }
   ],
   "source": [
    "a = [1, 1, 2, 3, 5, 8, 13, 21, 34, 55, 89]\n",
    "b = sum(a)\n",
    "print(b)"
   ]
  },
  {
   "cell_type": "markdown",
   "metadata": {},
   "source": [
    "# 5. Write a Python program to get the largest number from a numeric list"
   ]
  },
  {
   "cell_type": "code",
   "execution_count": 22,
   "metadata": {},
   "outputs": [
    {
     "data": {
      "text/plain": [
       "9"
      ]
     },
     "execution_count": 22,
     "metadata": {},
     "output_type": "execute_result"
    }
   ],
   "source": [
    "num = [1, 2, 3, 4, 5, 6, 7, 8, 9, 0]\n",
    "max(num)"
   ]
  },
  {
   "cell_type": "markdown",
   "metadata": {},
   "source": [
    "# 6. program that prints out all the elements of the list that are less than 5."
   ]
  },
  {
   "cell_type": "code",
   "execution_count": 3,
   "metadata": {},
   "outputs": [
    {
     "name": "stdout",
     "output_type": "stream",
     "text": [
      "[1, 1, 2, 3, 5, 8, 13, 21, 34, 55, 89]\n",
      "\n",
      "element that is less than 5 in the list is: \n",
      "\n",
      "[1, 1, 2, 3]\n"
     ]
    }
   ],
   "source": [
    "list = [1, 1, 2, 3, 5, 8, 13, 21, 34, 55, 89]\n",
    "print(list)\n",
    "print(\"\\nelement that is less than 5 in the list is: \\n\")\n",
    "print(list[0:4])"
   ]
  },
  {
   "cell_type": "code",
   "execution_count": null,
   "metadata": {
    "collapsed": true
   },
   "outputs": [],
   "source": []
  }
 ],
 "metadata": {
  "kernelspec": {
   "display_name": "Python 3",
   "language": "python",
   "name": "python3"
  },
  "language_info": {
   "codemirror_mode": {
    "name": "ipython",
    "version": 3
   },
   "file_extension": ".py",
   "mimetype": "text/x-python",
   "name": "python",
   "nbconvert_exporter": "python",
   "pygments_lexer": "ipython3",
   "version": "3.6.3"
  }
 },
 "nbformat": 4,
 "nbformat_minor": 2
}
