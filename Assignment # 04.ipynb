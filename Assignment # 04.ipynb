{
 "cells": [
  {
   "cell_type": "markdown",
   "metadata": {},
   "source": [
    "# Question 1"
   ]
  },
  {
   "cell_type": "markdown",
   "metadata": {},
   "source": [
    "Use a dictionary to store information about a person you know. Store their first name, last name, age, and the city in which they live. You should have keys such as first_name, last_name, age, and city. Print each piece of information stored in your dictionary. Add a new key value pair about qualification then update the qualification value to high academic level then delete it."
   ]
  },
  {
   "cell_type": "code",
   "execution_count": 1,
   "metadata": {},
   "outputs": [
    {
     "name": "stdout",
     "output_type": "stream",
     "text": [
      "first_name : Noman\n",
      "last_name : Patni\n",
      "city : Karachi\n",
      "age : 22\n"
     ]
    }
   ],
   "source": [
    "person_info = {\"first_name\": \"Noman\", \"last_name\": \"Patni\", \"city\": \"Karachi\", \"age\": 22}\n",
    "person_info[\"qualification\"] = \"Graduation\"\n",
    "person_info[\"qualification\"] = \"PhD\"\n",
    "person_info.pop(\"qualification\")\n",
    "for key, value in person_info.items():\n",
    "    print(key,\":\", value)"
   ]
  },
  {
   "cell_type": "markdown",
   "metadata": {},
   "source": [
    "# Question 2"
   ]
  },
  {
   "cell_type": "markdown",
   "metadata": {},
   "source": [
    "Make a dictionary called cities. Use the names of three cities as keys in your dictionary. Create a dictionary of information about each city and include the country that the city is in, its approximate population, and one fact about that city. The keys for each city’s dictionary should be something like country, population, and fact. Print the name of each city and all of the information you have stored about it."
   ]
  },
  {
   "cell_type": "code",
   "execution_count": 5,
   "metadata": {},
   "outputs": [
    {
     "name": "stdout",
     "output_type": "stream",
     "text": [
      "karachi : {'country': 'Pakistan', 'population': '230M', 'fact': 'Karachi is for everyone'}\n",
      "Mumbai : {'country': 'India', 'population': '300M', 'fact': 'Very hot'}\n",
      "Tokyo : {'country': 'Japan', 'population': '15M', 'fact': 'Tech Hub'}\n"
     ]
    }
   ],
   "source": [
    "cities = {\n",
    "    \"karachi\":{\n",
    "        \"country\": \"Pakistan\",\n",
    "        \"population\": \"230M\",\n",
    "        \"fact\":\"Karachi is for everyone\",\n",
    "    },\n",
    "    \"Mumbai\":{\n",
    "        \"country\": \"India\",\n",
    "        \"population\": \"300M\",\n",
    "        \"fact\": \"Very hot\",\n",
    "    },\n",
    "    \"Tokyo\":{\n",
    "        \"country\": \"Japan\",\n",
    "        \"population\": \"15M\",\n",
    "        \"fact\": \"Tech Hub\",\n",
    "    },\n",
    "}\n",
    "for key, value in cities.items():\n",
    "    print(key,\":\", value)"
   ]
  },
  {
   "cell_type": "markdown",
   "metadata": {},
   "source": [
    "# Question 3"
   ]
  },
  {
   "cell_type": "markdown",
   "metadata": {},
   "source": [
    "A movie theater charges different ticket prices depending on a person’s age. If a person is under the age of 3, the ticket is free; if they are between 3 and 12, the ticket is 10; and if they are over age 12, the ticket is 15. Write a loop in which you ask users their age, and then tell them the cost of their movie ticket."
   ]
  },
  {
   "cell_type": "code",
   "execution_count": 6,
   "metadata": {},
   "outputs": [
    {
     "name": "stdout",
     "output_type": "stream",
     "text": [
      "Enter your age: 2\n",
      "The ticket for you is free.\n",
      "Enter your age: 8\n",
      "The tick for you us $10.\n",
      "Enter your age: 22\n",
      "The ticket for you is $15.\n"
     ]
    }
   ],
   "source": [
    "for i in range(1,4):\n",
    "    age = int(input(\"Enter your age: \"))\n",
    "    if age>0 and age<3:\n",
    "        print(\"The ticket for you is free.\")\n",
    "    elif age>3 and age<13:\n",
    "        print(\"The tick for you us $10.\")\n",
    "    else:\n",
    "        print(\"The ticket for you is $15.\")"
   ]
  },
  {
   "cell_type": "markdown",
   "metadata": {},
   "source": [
    "# Question 4"
   ]
  },
  {
   "cell_type": "markdown",
   "metadata": {},
   "source": [
    "Write a function called favorite_book() that accepts one parameter, title. The function should print a message, such as One of my favorite books is Alice in Wonderland. Call the function, making sure to include a book title as an argument in the function call."
   ]
  },
  {
   "cell_type": "code",
   "execution_count": 7,
   "metadata": {},
   "outputs": [
    {
     "name": "stdout",
     "output_type": "stream",
     "text": [
      "One of my favorite books is A Smarter Way to learn Python\n"
     ]
    }
   ],
   "source": [
    "def favorite_book(title):\n",
    "    print(\"One of my favorite books is\", title)\n",
    "favorite_book(\"A Smarter Way to learn Python\")"
   ]
  },
  {
   "cell_type": "markdown",
   "metadata": {},
   "source": [
    "# Question 5"
   ]
  },
  {
   "cell_type": "markdown",
   "metadata": {},
   "source": [
    "Guess the number game:\n",
    "\n",
    "Write a program which randomly generate a number between 1 to 30 and ask the user in input field to guess the correct number. Give three chances to user guess the number and also give hint to user if hidden number is greater or smaller than the number he given to input field.\n"
   ]
  },
  {
   "cell_type": "code",
   "execution_count": 9,
   "metadata": {},
   "outputs": [
    {
     "name": "stdout",
     "output_type": "stream",
     "text": [
      "Guess a number one through 30: 3\n",
      "too low\n",
      "Guess a number one through 30: 21\n",
      "too high\n",
      "Guess a number one through 30: 15\n",
      "You loose 'GAME OVER'\n"
     ]
    }
   ],
   "source": [
    "from random import randint\n",
    "it = randint(0, 30)\n",
    "def guess():\n",
    "    tries=0\n",
    "    while True:\n",
    "        x = int(input('Guess a number one through 30: '))\n",
    "        if x == it:\n",
    "            print(\"You got it!\")\n",
    "            break\n",
    "        elif tries == 2:\n",
    "            print(\"You loose 'GAME OVER'\")\n",
    "            break\n",
    "        elif x > it:\n",
    "            print(\"too high\")\n",
    "        else:\n",
    "            print(\"too low\")\n",
    "        tries += 1\n",
    "        \n",
    "guess()"
   ]
  },
  {
   "cell_type": "code",
   "execution_count": null,
   "metadata": {},
   "outputs": [],
   "source": []
  }
 ],
 "metadata": {
  "kernelspec": {
   "display_name": "Python 3",
   "language": "python",
   "name": "python3"
  },
  "language_info": {
   "codemirror_mode": {
    "name": "ipython",
    "version": 3
   },
   "file_extension": ".py",
   "mimetype": "text/x-python",
   "name": "python",
   "nbconvert_exporter": "python",
   "pygments_lexer": "ipython3",
   "version": "3.7.4"
  }
 },
 "nbformat": 4,
 "nbformat_minor": 2
}
